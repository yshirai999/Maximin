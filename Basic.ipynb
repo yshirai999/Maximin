{
 "cells": [
  {
   "cell_type": "markdown",
   "metadata": {},
   "source": [
    "# Optimal derivative positioning on a single stock\n",
    "\n",
    "- Can we outperform a benchmark by trading options on it?\n",
    "\n",
    "- This question may be answered by considering the following maximization problem,\n",
    "$$\\begin{equation}\n",
    "\\begin{aligned}\n",
    "& \\max_{\\mathbf{w} \\in \\mathbb{R}^N} U(w_1f_1(X_T)+...+w_Nf_N(X_T)-We^{X_T})\\\\\n",
    "& \\text{s.t. } \\mathbb{E}^{\\mathbb{Q}}[w_1f_1(X_T)+...+w_Nf_N(X_T)] \\leq W,\n",
    "\\end{aligned}\n",
    "\\end{equation}$$ \n",
    "\n",
    "$$\\begin{equation}\n",
    "\\begin{aligned}\n",
    "& \\max_{\\mathbf{w} \\in \\mathbb{R}^N} U(w_1f_1(X_T)+...+w_Nf_N(X_T)-\n",
    "\\mathbb{E}^{\\mathbb{Q}}[w_1f_1(X_T)+...+w_Nf_N(X_T)])\n",
    "\\end{aligned}\n",
    "\\end{equation}$$\n",
    "\n",
    "- In (1), $W$ denotes the available capital to be allocated and it is assumed that, denoting by $\\Phi$ the Fenchel conjugate of a given distortion $\\Psi$,\n",
    "    - $U:L^{\\infty}\\rightarrow \\mathbb{R}$ satisfies\n",
    "    $$\\begin{align*}\n",
    "    U(Y) &:= \\min_{Z\\in\\mathcal{M}}\\mathbb{E}[ZY]-\\alpha(Z), \\ Y\\in L^{\\infty}\\\\\n",
    "    \\mathcal{M} &:= \\{Z\\in L^1_+:\\mathbb{E}[Z]=1,\\mathbb{E}[(Z-a)^+]\\leq \\Phi(a), a > 0\\}\\\\\n",
    "    \\alpha(Z) &:= \\mathbb{E}[\\theta Z^{\\alpha}+(1-\\theta)Z^{-\\beta}]\n",
    "    \\end{align*}$$\n",
    "    - $f_1,...,f_N$ are the respective payoff functions of $N$ contingent claims (e.g. options) each with a fixed maturity $T$ (here, 7 days) on the same underlying asset\n",
    "    - The random variable $X_T$ is the log returns of the underlying asset, and its distribution is assumed to follow the bilateral gamma distribution with parameters $(b_p,c_p,b_n,c_n)$ and $(\\tilde{b}_p,\\tilde{c}_p,\\tilde{b}_n,\\tilde{c}_n)$ under the statistical probability $\\mathbb{P}$ and the risk neutral probability $\\mathbb{Q}$ respectively\n",
    "    - The parameters $\\theta,\\alpha,\\beta$ may be estimated based on performance of the resulting trading strategy\n",
    "\n",
    "- **Note on optimal amount $W$ to be invested**: Two possible ways to move forward instead of maximizing net return\n",
    "    - Specify an alternative (e.g. Treasuries), which then needs to be included in the optimization (1)\n",
    "    - Use non monotonic MUF -> this may be the only way if, say, we are considering a team that specializes in trading a particular asset class, and the capital allocated to the team is decided only once per year\n",
    "\n",
    "\n",
    "\n"
   ]
  },
  {
   "cell_type": "markdown",
   "metadata": {},
   "source": [
    "# Formulation for discipline saddle programming\n",
    "\n",
    "- The dsp extension of CVXPY is relatively strict in term of the target functions it accepts\n",
    "\n",
    "- Because of this, I think reformulating the problem as follows will help\n",
    "\n",
    "- Given a random variable $Y$, $M_0<M_1\\in \\mathbb{R}$ and $k\\in \\mathbb{N}$, define\n",
    "$$\\begin{align*}\n",
    "y_j & := M_0+\\delta j, \\ j\\in\\{0,1,...,2^k-1\\}\\\\\n",
    "\\delta & := \\frac{M_1-M_0}{2^k-1}\\\\\n",
    "Y^k & := \\sum_{j=1}^{2^k-1}y_j\\mathbb{1}_{[y_j,y_{j+1})}(Y)\n",
    "\\end{align*}$$\n",
    "\n",
    "- Then, letting $p_Y$ denote the density of $Y$ under $\\mathbb{P}$,\n",
    "$$\\begin{align*}\n",
    "\\mathbb{P}\\left(Y^k=y_j\\right)\\approx \\delta p_Y\\left(y_j\\right)\n",
    "\\end{align*}$$\n",
    "\n",
    "- One is then led to consider the problem\n",
    "$$\\begin{equation*}\n",
    "\\begin{aligned}\n",
    "& \\max_{\\mathbf{w} \\in \\mathbb{R}^N} \\min_{Z^k\\in\\mathcal{M}} \\mathbb{E}[Z^k(w_1f_1(X^k_T)+...+w_Nf_N(X^k_T)-We^{X^k_T})] - \\alpha(Z^k),\\\\\n",
    "& \\text{s.t. } \\mathbb{E}^{\\mathbb{Q}}[w_1f_1(X_T)+...+w_Nf_N(X_T)] \\leq W\n",
    "\\end{aligned}\n",
    "\\end{equation*}$$ "
   ]
  },
  {
   "cell_type": "markdown",
   "metadata": {},
   "source": [
    "- Next, assuming all strikes are traded for maturity $T$, we consider the problem,\n",
    "$$\\begin{equation*}\n",
    "\\max_{\\mathbf{q}^T\\mathbf{y}=W} \n",
    "    \\min_{\\mathbf{z}\\in\\mathcal{M}} \\mathbf{z}^TP_k(\\mathbf{y}-We^{\\mathbf{x}}) - \\mathbf{p}^T(\\theta \\mathbf{z}^{\\alpha}+(1-\\theta)\\mathbf{z}^{-\\beta})\\tag{2}\n",
    "\\end{equation*}$$ \n",
    "- In (2), we denote by \n",
    "    - $P_k$ denote the $2^{k}\\times 2^{k}$ diagonal matrix with diagonal elements given by $\\delta p_{X}(x_j)$, $j=1,...,2^k$,\n",
    "    - $\\mathbf{p}$ and $\\mathbf{q}$ are the probability mass of $X^k_T$ under the statistical and the risk neutral measure respectively\n",
    "    - $\\mathbf{y}$, $\\mathbf{x}$ and $\\mathbf{z}$ are vectors in $\\mathbb{R}^{2^k}$ composed of all possible values of $Y^k$, $X^k$ and $Z^k$\n",
    "- This formulation seems to fit the functions available in the DSP extension of CVXPY, as it is shown next"
   ]
  },
  {
   "cell_type": "markdown",
   "metadata": {},
   "source": [
    "# Disciplined Saddle Programming\n",
    "\n",
    "- The github repository for the dsp extension of CVXPY is available at https://github.com/cvxgrp/dsp\n",
    "\n",
    "- Relevant references on which the repo is based on are:\n",
    "    - https://arxiv.org/abs/2301.13427\n",
    "    - https://arxiv.org/abs/2102.01002\n"
   ]
  },
  {
   "cell_type": "markdown",
   "metadata": {},
   "source": [
    "Below is a simple example that computes the solution to problem (2) in dimension $k = 2$"
   ]
  },
  {
   "cell_type": "code",
   "execution_count": 1,
   "metadata": {},
   "outputs": [
    {
     "data": {
      "text/plain": [
       "-11022.275665866204"
      ]
     },
     "execution_count": 1,
     "metadata": {},
     "output_type": "execute_result"
    }
   ],
   "source": [
    "import dsp\n",
    "import cvxpy as cp\n",
    "import numpy as np\n",
    "\n",
    "y = cp.Variable(2)\n",
    "z = cp.Variable(2)\n",
    "x = np.array([10,3])\n",
    "p = np.array([0.3,0.7])\n",
    "q = np.array([0.5,0.5])\n",
    "a = 1\n",
    "Phi = 3\n",
    "P = np.array([[p[0], 0], [0, p[1]]])\n",
    "theta = 0.5\n",
    "alpha = 0.2\n",
    "beta = 0.3\n",
    "W = 1\n",
    "\n",
    "f = dsp.inner(z, P @ (y - cp.multiply(W,cp.exp(x))))\n",
    "rho = p @ (cp.multiply(theta, cp.power(z,alpha))+cp.multiply(1-theta,cp.power(z,-beta)))\n",
    "obj = dsp.MinimizeMaximize(rho-f)\n",
    "constraints = [q @ y == W, p @ z == 1, z >= 0, p @ cp.maximum(z-a,0) <= Phi]\n",
    "\n",
    "obj = dsp.MinimizeMaximize(f)\n",
    "prob = dsp.SaddlePointProblem(obj, constraints)\n",
    "prob.solve()  # solves the problem\n"
   ]
  },
  {
   "cell_type": "code",
   "execution_count": 2,
   "metadata": {},
   "outputs": [],
   "source": [
    "import matlab.engine\n",
    "eng = matlab.engine.start_matlab()\n"
   ]
  },
  {
   "cell_type": "code",
   "execution_count": 3,
   "metadata": {},
   "outputs": [
    {
     "name": "stdout",
     "output_type": "stream",
     "text": [
      "2.0\n"
     ]
    }
   ],
   "source": [
    "print(eng.sqrt(4.0))"
   ]
  },
  {
   "cell_type": "code",
   "execution_count": null,
   "metadata": {},
   "outputs": [],
   "source": []
  }
 ],
 "metadata": {
  "kernelspec": {
   "display_name": "Python 3",
   "language": "python",
   "name": "python3"
  },
  "language_info": {
   "codemirror_mode": {
    "name": "ipython",
    "version": 3
   },
   "file_extension": ".py",
   "mimetype": "text/x-python",
   "name": "python",
   "nbconvert_exporter": "python",
   "pygments_lexer": "ipython3",
   "version": "3.10.14"
  }
 },
 "nbformat": 4,
 "nbformat_minor": 2
}
