{
 "cells": [
  {
   "cell_type": "markdown",
   "metadata": {},
   "source": [
    "# How to run matlab files from python script\n",
    "\n",
    "- First, we need to install the MATLAB API for Python. On Windows, this can be done by following these steps:\n",
    "  - type cmd in the search panel\n",
    "  - right click on Command Prompt\n",
    "  - click on \"run as administrator\"\n",
    "  - Type: `cd \"matlabroot/extern/engines/python\"`, where matlabroot is the folder in which matlab is installed\n",
    "    - To know matlabroot, type matlabroot in the command window on Matlab\n",
    "  - type `python setup.py install`\n",
    "\n",
    "- Next we need to install the Matlab library in the current environment\n",
    "  - This has been already installed in the .conda environment in the Github repo, so, once it is downloaded,\n",
    "    - activate the environment by typing `conda activate path/.conda`\n",
    "    - path is the address of the folder of the local repo, i.e. the folder where the repo was downloaded to\n",
    "  - Instead of downloading the repo, you may just run `python -m pip install matlabengine==9.13.7` in the VSCode terminal\n",
    "    - Note that you need at most python 3.10. The current version 3.11 is not yet incorporated in the library\n",
    "    - Any MATLAB file in the folder open in VScode may then be run\n",
    "\n",
    "- Once the library is installed, MATLAB functions in the repo/local folder may be executed as shown below"
   ]
  },
  {
   "cell_type": "code",
   "execution_count": 7,
   "metadata": {},
   "outputs": [],
   "source": [
    "import numpy as np\n",
    "import matlab.engine"
   ]
  },
  {
   "cell_type": "markdown",
   "metadata": {},
   "source": [
    "First, we start MATLAB's engine"
   ]
  },
  {
   "cell_type": "code",
   "execution_count": 3,
   "metadata": {},
   "outputs": [],
   "source": [
    "eng = matlab.engine.start_matlab()"
   ]
  },
  {
   "cell_type": "markdown",
   "metadata": {},
   "source": [
    "MATLAB built-in functions may be called as methods of the `eng` class"
   ]
  },
  {
   "cell_type": "code",
   "execution_count": 4,
   "metadata": {},
   "outputs": [
    {
     "name": "stdout",
     "output_type": "stream",
     "text": [
      "2.0\n"
     ]
    }
   ],
   "source": [
    "print(eng.sqrt(4.0))"
   ]
  },
  {
   "cell_type": "markdown",
   "metadata": {},
   "source": [
    "Most importantly, any MATLAB function may be called as follows"
   ]
  },
  {
   "cell_type": "code",
   "execution_count": 6,
   "metadata": {},
   "outputs": [
    {
     "name": "stdout",
     "output_type": "stream",
     "text": [
      "[[1.0,4.0,9.0,16.0]]\n"
     ]
    }
   ],
   "source": [
    "base = np.asarray([1.0,2.0,3.0,4.0])\n",
    "exp = 2.0\n",
    "ret = eng.pow_fun(matlab.double(base.tolist()),exp)\n",
    "print(ret)"
   ]
  },
  {
   "cell_type": "markdown",
   "metadata": {},
   "source": [
    "Similarly, one may run a MATLAB script"
   ]
  }
 ],
 "metadata": {
  "kernelspec": {
   "display_name": "Python 3",
   "language": "python",
   "name": "python3"
  },
  "language_info": {
   "codemirror_mode": {
    "name": "ipython",
    "version": 3
   },
   "file_extension": ".py",
   "mimetype": "text/x-python",
   "name": "python",
   "nbconvert_exporter": "python",
   "pygments_lexer": "ipython3",
   "version": "3.10.14"
  }
 },
 "nbformat": 4,
 "nbformat_minor": 2
}
